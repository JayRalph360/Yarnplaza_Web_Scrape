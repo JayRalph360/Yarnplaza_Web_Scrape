{
 "cells": [
  {
   "cell_type": "code",
   "execution_count": 1,
   "id": "2a84d7e5",
   "metadata": {},
   "outputs": [],
   "source": [
    "# using selenium to fetch product brand, name, price, the needle size and the composition. \n",
    "from selenium import webdriver\n",
    "import pandas as pd"
   ]
  },
  {
   "cell_type": "code",
   "execution_count": 2,
   "id": "9f8c7ed1",
   "metadata": {},
   "outputs": [],
   "source": [
    "url = 'https://www.yarnplaza.com/compare.html?codes=4216,4647,18098'"
   ]
  },
  {
   "cell_type": "code",
   "execution_count": 3,
   "id": "139e2edd",
   "metadata": {},
   "outputs": [],
   "source": [
    "driver = webdriver.Chrome()"
   ]
  },
  {
   "cell_type": "code",
   "execution_count": 4,
   "id": "e0a2523b",
   "metadata": {},
   "outputs": [],
   "source": [
    "# Set an implicit wait\n",
    "driver.implicitly_wait(10)\n",
    "driver.get(url) # launches a web browser and get url"
   ]
  },
  {
   "cell_type": "code",
   "execution_count": 5,
   "id": "6b9cdcef",
   "metadata": {},
   "outputs": [
    {
     "name": "stderr",
     "output_type": "stream",
     "text": [
      "<ipython-input-5-c2dea72cd70c>:2: DeprecationWarning: find_elements_by_xpath is deprecated. Please use find_elements(by=By.XPATH, value=xpath) instead\n",
      "  brand = [brand.text for brand in driver.find_elements_by_xpath('//tr[@class= \"vergelijker-tr\"][3]/td/p')]\n"
     ]
    },
    {
     "data": {
      "text/plain": [
       "['Brand', 'DMC', 'Drops', 'Stylecraft']"
      ]
     },
     "execution_count": 5,
     "metadata": {},
     "output_type": "execute_result"
    }
   ],
   "source": [
    "# find product brand by XPath\n",
    "brand = [brand.text for brand in driver.find_elements_by_xpath('//tr[@class= \"vergelijker-tr\"][3]/td/p')]\n",
    "brand"
   ]
  },
  {
   "cell_type": "code",
   "execution_count": 6,
   "id": "eb2ba488",
   "metadata": {},
   "outputs": [
    {
     "name": "stderr",
     "output_type": "stream",
     "text": [
      "<ipython-input-6-375d309a65df>:2: DeprecationWarning: find_elements_by_xpath is deprecated. Please use find_elements(by=By.XPATH, value=xpath) instead\n",
      "  name = [name.text for name in driver.find_elements_by_xpath('//tr[@class= \"vergelijker-tr\"][2]/td/p')]\n"
     ]
    },
    {
     "data": {
      "text/plain": [
       "['Product name', 'DMC Natura XL', 'Drops Safran', 'Stylecraft Special DK']"
      ]
     },
     "execution_count": 6,
     "metadata": {},
     "output_type": "execute_result"
    }
   ],
   "source": [
    "# find product name by XPath\n",
    "name = [name.text for name in driver.find_elements_by_xpath('//tr[@class= \"vergelijker-tr\"][2]/td/p')]\n",
    "name"
   ]
  },
  {
   "cell_type": "code",
   "execution_count": 7,
   "id": "33db1b00",
   "metadata": {},
   "outputs": [
    {
     "name": "stderr",
     "output_type": "stream",
     "text": [
      "<ipython-input-7-eeecdfd63155>:2: DeprecationWarning: find_elements_by_xpath is deprecated. Please use find_elements(by=By.XPATH, value=xpath) instead\n",
      "  price = [price.text for price in driver.find_elements_by_xpath('//tr[@class= \"vergelijker-tr\"][4]/td/p')]\n"
     ]
    },
    {
     "data": {
      "text/plain": [
       "['Price', '€ 8,53', '€ 1,03', '€ 2,93\\n€ 2,73']"
      ]
     },
     "execution_count": 7,
     "metadata": {},
     "output_type": "execute_result"
    }
   ],
   "source": [
    "# find product price by XPath\n",
    "price = [price.text for price in driver.find_elements_by_xpath('//tr[@class= \"vergelijker-tr\"][4]/td/p')]\n",
    "price"
   ]
  },
  {
   "cell_type": "code",
   "execution_count": 8,
   "id": "83a34267",
   "metadata": {},
   "outputs": [
    {
     "name": "stderr",
     "output_type": "stream",
     "text": [
      "<ipython-input-8-798136467676>:2: DeprecationWarning: find_elements_by_xpath is deprecated. Please use find_elements(by=By.XPATH, value=xpath) instead\n",
      "  needle_size = [size.text for size in driver.find_elements_by_xpath('//tr[@class= \"vergelijker-tr\"][12]/td/p')]\n"
     ]
    },
    {
     "data": {
      "text/plain": [
       "['Needle size', '8 mm', '3 mm', '4 mm']"
      ]
     },
     "execution_count": 8,
     "metadata": {},
     "output_type": "execute_result"
    }
   ],
   "source": [
    "# find needle size by XPath\n",
    "needle_size = [size.text for size in driver.find_elements_by_xpath('//tr[@class= \"vergelijker-tr\"][12]/td/p')]\n",
    "needle_size"
   ]
  },
  {
   "cell_type": "code",
   "execution_count": 9,
   "id": "85936f46",
   "metadata": {},
   "outputs": [
    {
     "name": "stderr",
     "output_type": "stream",
     "text": [
      "<ipython-input-9-bb4692bcb8c4>:2: DeprecationWarning: find_elements_by_xpath is deprecated. Please use find_elements(by=By.XPATH, value=xpath) instead\n",
      "  composition = [composition.text for composition in driver.find_elements_by_xpath('//tr[@class= \"vergelijker-tr\"][11]/td/p')]\n"
     ]
    },
    {
     "data": {
      "text/plain": [
       "['Composition', '100% Cotton', '100% Cotton', '100% Acrylic']"
      ]
     },
     "execution_count": 9,
     "metadata": {},
     "output_type": "execute_result"
    }
   ],
   "source": [
    "# find product composition by XPath\n",
    "composition = [composition.text for composition in driver.find_elements_by_xpath('//tr[@class= \"vergelijker-tr\"][11]/td/p')]\n",
    "composition"
   ]
  },
  {
   "cell_type": "code",
   "execution_count": 10,
   "id": "a23832da",
   "metadata": {},
   "outputs": [
    {
     "data": {
      "text/html": [
       "<div>\n",
       "<style scoped>\n",
       "    .dataframe tbody tr th:only-of-type {\n",
       "        vertical-align: middle;\n",
       "    }\n",
       "\n",
       "    .dataframe tbody tr th {\n",
       "        vertical-align: top;\n",
       "    }\n",
       "\n",
       "    .dataframe thead th {\n",
       "        text-align: right;\n",
       "    }\n",
       "</style>\n",
       "<table border=\"1\" class=\"dataframe\">\n",
       "  <thead>\n",
       "    <tr style=\"text-align: right;\">\n",
       "      <th></th>\n",
       "      <th>Brand</th>\n",
       "      <th>Product Name</th>\n",
       "      <th>Price</th>\n",
       "      <th>Needle size</th>\n",
       "      <th>Composition</th>\n",
       "    </tr>\n",
       "  </thead>\n",
       "  <tbody>\n",
       "    <tr>\n",
       "      <th>0</th>\n",
       "      <td>Brand</td>\n",
       "      <td>Product name</td>\n",
       "      <td>Price</td>\n",
       "      <td>Needle size</td>\n",
       "      <td>Composition</td>\n",
       "    </tr>\n",
       "    <tr>\n",
       "      <th>1</th>\n",
       "      <td>DMC</td>\n",
       "      <td>DMC Natura XL</td>\n",
       "      <td>€ 8,53</td>\n",
       "      <td>8 mm</td>\n",
       "      <td>100% Cotton</td>\n",
       "    </tr>\n",
       "    <tr>\n",
       "      <th>2</th>\n",
       "      <td>Drops</td>\n",
       "      <td>Drops Safran</td>\n",
       "      <td>€ 1,03</td>\n",
       "      <td>3 mm</td>\n",
       "      <td>100% Cotton</td>\n",
       "    </tr>\n",
       "    <tr>\n",
       "      <th>3</th>\n",
       "      <td>Stylecraft</td>\n",
       "      <td>Stylecraft Special DK</td>\n",
       "      <td>€ 2,93\\n€ 2,73</td>\n",
       "      <td>4 mm</td>\n",
       "      <td>100% Acrylic</td>\n",
       "    </tr>\n",
       "  </tbody>\n",
       "</table>\n",
       "</div>"
      ],
      "text/plain": [
       "        Brand           Product Name           Price  Needle size  \\\n",
       "0       Brand           Product name           Price  Needle size   \n",
       "1         DMC          DMC Natura XL          € 8,53         8 mm   \n",
       "2       Drops           Drops Safran          € 1,03         3 mm   \n",
       "3  Stylecraft  Stylecraft Special DK  € 2,93\\n€ 2,73         4 mm   \n",
       "\n",
       "    Composition  \n",
       "0   Composition  \n",
       "1   100% Cotton  \n",
       "2   100% Cotton  \n",
       "3  100% Acrylic  "
      ]
     },
     "execution_count": 10,
     "metadata": {},
     "output_type": "execute_result"
    }
   ],
   "source": [
    "Yarnplaza = pd.DataFrame({\n",
    "    \"Brand\": brand,\n",
    "    \"Product Name\": name,\n",
    "    \"Price\": price,\n",
    "    \"Needle size\": needle_size,\n",
    "    \"Composition\": composition \n",
    "})\n",
    "Yarnplaza\n",
    "# put results into a dataframe"
   ]
  },
  {
   "cell_type": "code",
   "execution_count": 11,
   "id": "e14f0944",
   "metadata": {},
   "outputs": [],
   "source": [
    "# create a csv file and send results to it\n",
    "Yarnplaza.to_csv(\"Yarnplaza.csv\")"
   ]
  },
  {
   "cell_type": "code",
   "execution_count": null,
   "id": "c94e056c",
   "metadata": {},
   "outputs": [],
   "source": []
  }
 ],
 "metadata": {
  "kernelspec": {
   "display_name": "Python 3",
   "language": "python",
   "name": "python3"
  },
  "language_info": {
   "codemirror_mode": {
    "name": "ipython",
    "version": 3
   },
   "file_extension": ".py",
   "mimetype": "text/x-python",
   "name": "python",
   "nbconvert_exporter": "python",
   "pygments_lexer": "ipython3",
   "version": "3.8.8"
  }
 },
 "nbformat": 4,
 "nbformat_minor": 5
}
